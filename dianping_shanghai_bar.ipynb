{
 "cells": [
  {
   "cell_type": "code",
   "execution_count": 121,
   "id": "boxed-supply",
   "metadata": {},
   "outputs": [
    {
     "data": {
      "text/plain": [
       "'\\nFrom: Boyuan Lyu\\nTo: Dashmote\\nTitle: Dianping\\n'"
      ]
     },
     "execution_count": 121,
     "metadata": {},
     "output_type": "execute_result"
    }
   ],
   "source": [
    "\"\"\"\n",
    "From: Boyuan Lyu\n",
    "To: Dashmote\n",
    "Title: Dianping\n",
    "\"\"\""
   ]
  },
  {
   "cell_type": "code",
   "execution_count": 122,
   "id": "handy-bolivia",
   "metadata": {},
   "outputs": [],
   "source": [
    "import re\n",
    "import requests\n",
    "from fontTools.ttLib import TTFont\n",
    "import pandas as pd\n",
    "\n",
    "headers = {\n",
    "    'User-Agent': 'Mozilla/5.0 (Windows NT 10.0; Win64; x64) AppleWebKit/537.36 (KHTML, like Gecko) Chrome/88.0.4324.96 Safari/537.36 Edg/88.0.705.56',\n",
    "    'Cookie': 'navCtgScroll=0; navCtgScroll=0; _lxsdk_cuid=1782439f5f3c8-09d6d7ddc744a9-50391c40-232800-1782439f5f3c8; _lxsdk=1782439f5f3c8-09d6d7ddc744a9-50391c40-232800-1782439f5f3c8; Hm_lvt_602b80cf8079ae6591966cc70a3940e7=1615515482; _hc.v=200eec5f-d11f-8b00-03ca-df5aeee39bd6.1615515482; fspop=test; cy=1; cye=shanghai; s_ViewType=10; dplet=3383bcce60916aac9f5c46e968886e95; dper=05d0705328b74937acc652c34e9d61c998752eeaab3fefd8737d829e75d58a879bc6d9ab47742bd324fab0d2a7718726c8a264c0b3638fe4d686568dce6b3915e84110e7dcaeaf3b24138f37e92a0345edba38307b0394e6e5d09f51e03b804f; ll=7fd06e815b796be3df069dec7836c3df; ua=dokklu; ctu=1732b0730a7430a2ad5e6b2241d032db05ac74e3b8b08e8aab1d991ae6e65054; _lxsdk_s=17824da4165-a64-327-257%7C%7C284; Hm_lpvt_602b80cf8079ae6591966cc70a3940e7=1615528247',\n",
    "}"
   ]
  },
  {
   "cell_type": "code",
   "execution_count": 123,
   "id": "manual-omaha",
   "metadata": {},
   "outputs": [],
   "source": [
    "def get_first_n_pages (n):\n",
    "    \"\"\"\n",
    "    get first n pages of Shanghai bars\n",
    "    \"\"\"\n",
    "    output_all_pages_url = []\n",
    "    for i in list(range(1, n + 1)):\n",
    "        page_url = 'http://www.dianping.com/shanghai/ch30/g133p' + str(i) + '?cpt=l7HbQno5ICkVnJAR%2CH7eYzuIgR3P7K0mm%2Ck7WoGmuNzNnO1gmv%2CH4oyZuN2OGLtTpGM%2CG9pceR9o4wlmMCUS%2CGaX3qtoOCO0ue9Il%2CG6RjKKGuNqBLfUs5%2CFs2vZ1pvpL3oS1yY%2Ck9GNJc5FFDRZggUA%2CG2gHW2VDROPHe7Tf%2Cl2q60RVNSZxZOjF1%2Cl6XaqNH1svHfL0AE%2CG996M7iphIYO6lkB'\n",
    "        output_all_pages_url.append(page_url)\n",
    "    return output_all_pages_url\n",
    "\n",
    "\"\"\"\n",
    "select first 8 pages, which is just over 100 bars\n",
    "\"\"\"\n",
    "all_pages_url = get_first_n_pages(8)"
   ]
  },
  {
   "cell_type": "code",
   "execution_count": 117,
   "id": "balanced-antibody",
   "metadata": {},
   "outputs": [],
   "source": [
    "\"\"\"\n",
    "select first 8 pages, which is just over 100 bars\n",
    "\"\"\"\n",
    "all_pages_url = get_first_n_pages(8)"
   ]
  },
  {
   "cell_type": "code",
   "execution_count": 124,
   "id": "australian-secretary",
   "metadata": {},
   "outputs": [],
   "source": [
    "\"\"\"\n",
    "prepare for font conversion\n",
    "\"\"\"\n",
    "TTF = re.findall('<linkrel=\"stylesheet\"type=\"text\\/css\"href=\"(.*?)\">', input_html, re.S)[1]\n",
    "\n",
    "#request css\n",
    "res = requests.get('http:' + str(TTF),headers = headers).text\n",
    "\n",
    "#font dictionary\n",
    "TTF_dict = {}\n",
    "fontlist = re.findall('@font-face{(.*?)}',res,re.S)\n",
    "\n",
    "for font in fontlist:\n",
    "    TTF_name = re.findall('font-family: \"PingFangSC-Regular-(.*?)\"',font,re.S)[0]\n",
    "    TTF_link = re.findall(',url\\(\"(.*?)\"\\);',font,re.S)[0]\n",
    "    TTF_dict.update({TTF_name:TTF_link})\n",
    "shopNum = TTF_dict.get('shopNum')\n",
    "tagName = TTF_dict.get('tagName')\n",
    "\n",
    "font1 = TTFont(r'C:\\Users\\cnsghlubo\\Desktop\\PingFangSC-Regular-shopNum.ttf')\n",
    "uni_list1 = font1.getGlyphOrder()[2:]\n",
    "utf8List = ['&#x' + uni[3:] for uni in uni_list1]\n",
    "\n",
    "font2 = TTFont(r'C:\\Users\\cnsghlubo\\Desktop\\PingFangSC-Regular-tagName.ttf')\n",
    "uni_list2 = font2.getGlyphOrder()[2:]\n",
    "utf8List2 = ['&#x' + uni[3:] for uni in uni_list2]\n",
    "\n",
    "wordlist = '1234567890店中美家馆小车大市公酒行国品发电金心业商司超生装园场食有新限天面工服海华水房饰城乐汽香部利子老艺花专东肉菜学福饭人百餐茶务通味所山区门药银农龙停尚安广鑫一容动南具源兴鲜记时机烤文康信果阳理锅宝达地儿衣特产西批坊州牛佳化五米修爱北养卖建材三会鸡室红站德王光名丽油院堂烧江社合星货型村自科快便日民营和活童明器烟育宾精屋经居庄石顺林尔县手厅销用好客火雅盛体旅之鞋辣作粉包楼校鱼平彩上吧保永万物教吃设医正造丰健点汤网庆技斯洗料配汇木缘加麻联卫川泰色世方寓风幼羊烫来高厂兰阿贝皮全女拉成云维贸道术运都口博河瑞宏京际路祥青镇厨培力惠连马鸿钢训影甲助窗布富牌头四多妆吉苑沙恒隆春干饼氏里二管诚制售嘉长轩杂副清计黄讯太鸭号街交与叉附近层旁对巷栋环省桥湖段乡厦府铺内侧元购前幢滨处向座下澩凤港开关景泉塘放昌线湾政步宁解白田町溪十八古双胜本单同九迎第台玉锦底后七斜期武岭松角纪朝峰六振珠局岗洲横边济井办汉代临弄团外塔杨铁浦字年岛陵原梅进荣友虹央桂沿事津凯莲丁秀柳集紫旗张谷的是不了很还个也这我就在以可到错没去过感次要比觉看得说常真们但最喜哈么别位能较境非为欢然他挺着价那意种想出员两推做排实分间甜度起满给热完格荐喝等其再几只现朋候样直而买于般豆量选奶打每评少算又因情找些份置适什蛋师气你姐棒试总定啊足级整带虾如态且尝主话强当更板知己无酸让入啦式笑赞片酱差像提队走嫩才刚午接重串回晚微周值费性桌拍跟块调糕'"
   ]
  },
  {
   "cell_type": "code",
   "execution_count": 125,
   "id": "looking-adventure",
   "metadata": {},
   "outputs": [],
   "source": [
    "def get_bar_info_on_page(page_url):\n",
    "    response = requests.get(page_url, headers=headers).text\n",
    "    input_html = re.sub('\\s', '', response)\n",
    "\n",
    "    shop_info = re.findall('<liclass(.*?)>(.*?)<\\/li>', input_html, re.S)\n",
    "    shop_list = []\n",
    "    for i in shop_info:\n",
    "            shop_list.append(i[-1])\n",
    "    shop_list_clean = []\n",
    "    for i in shop_list:\n",
    "        if i[:len('<divclass=\"pic\">')] == '<divclass=\"pic\">':\n",
    "            shop_list_clean.append(i)\n",
    "    \n",
    "    output_page_bar_info = []\n",
    "    \n",
    "    for i in range(len(shop_list_clean)):\n",
    "        name = re.findall('data-name=\"(.*?)\"', shop_list_clean[i], re.S)[0]  # name\n",
    "        score = re.findall('score_sml\">(.*?)<\\/div>', shop_list_clean[i], re.S)[0]  # rating\n",
    "        address = re.findall('data-address=\"(.*?)\"', shop_list_clean[i], re.S)[0]  # address\n",
    "        review = re.findall('<b>(.*?)<\\/b>条评价', shop_list_clean[i], re.S)[0]  # review count\n",
    "        avg_price = ''.join(re.findall('人均<b>(.*?)<\\/b', shop_list_clean[i], re.S))  # average price\n",
    "        url = re.findall('href=\"(.*?)\"', shop_list_clean[i], re.S)[0]  # url\n",
    "\n",
    "        for i in range(10):\n",
    "            #the following two requires conversion\n",
    "            review = review.replace(utf8List[i], wordlist[i])\n",
    "            avg_price = avg_price.replace(utf8List[i], wordlist[i])\n",
    "        review_decode = (''.join(re.findall('\\d', review, re.S)))\n",
    "        avg_price_decode = (''.join(re.findall('\\d', avg_price, re.S)))\n",
    "    \n",
    "        output_bar_info =  {\n",
    "                'Bar Name': name, \n",
    "                'Url': url, \n",
    "                'Address': address, \n",
    "                'Number of Reviews': review_decode, \n",
    "                'Rating': score, \n",
    "                'Average Price': avg_price_decode\n",
    "        }\n",
    "        output_page_bar_info.append(output_bar_info)\n",
    "    return output_page_bar_info"
   ]
  },
  {
   "cell_type": "code",
   "execution_count": 128,
   "id": "short-karma",
   "metadata": {},
   "outputs": [],
   "source": [
    "bar_info_list = []\n",
    "for i in all_pages_url:\n",
    "    bar_info_list.extend(get_bar_info_on_page(i))\n",
    "df = pd.DataFrame.from_dict(bar_info_list) \n",
    "df[\"Rating\"].replace({\"\": \"NaN\"}, inplace=True)\n",
    "df[\"Average Price\"].replace({\"\": \"NaN\"}, inplace=True)\n",
    "df[\"Number of Reviews\"].replace({\"\": \"NaN\"}, inplace=True)\n",
    "df.to_csv(r'C:\\Users\\cnsghlubo\\Desktop\\dianping_shanghai_bar.csv', header=True, index=True) "
   ]
  }
 ],
 "metadata": {
  "kernelspec": {
   "display_name": "Python 3",
   "language": "python",
   "name": "python3"
  },
  "language_info": {
   "codemirror_mode": {
    "name": "ipython",
    "version": 3
   },
   "file_extension": ".py",
   "mimetype": "text/x-python",
   "name": "python",
   "nbconvert_exporter": "python",
   "pygments_lexer": "ipython3",
   "version": "3.8.8"
  }
 },
 "nbformat": 4,
 "nbformat_minor": 5
}
